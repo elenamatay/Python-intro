{
 "cells": [
  {
   "cell_type": "markdown",
   "id": "e9fe3fcc-b01b-468e-8f54-8f79f659fdbd",
   "metadata": {},
   "source": [
    "# Python intro\n",
    "\n",
    "## Variables and Types\n",
    "\n",
    "**Note:** Python is case-sensitive"
   ]
  },
  {
   "cell_type": "code",
   "execution_count": 1,
   "id": "8aef8675-6d09-4d4f-bc04-ef5a0820c3ac",
   "metadata": {},
   "outputs": [
    {
     "name": "stdout",
     "output_type": "stream",
     "text": [
      "32\n"
     ]
    }
   ],
   "source": [
    "myAge = 32\n",
    "print(myAge)"
   ]
  },
  {
   "cell_type": "code",
   "execution_count": 2,
   "id": "aaf1780f-e58b-4eef-af45-93c651d7aed2",
   "metadata": {},
   "outputs": [
    {
     "name": "stdout",
     "output_type": "stream",
     "text": [
      "8.0\n"
     ]
    }
   ],
   "source": [
    "print(myAge/4)"
   ]
  },
  {
   "cell_type": "code",
   "execution_count": 3,
   "id": "05e2483a-50ec-4808-a280-a1411cac82f7",
   "metadata": {},
   "outputs": [
    {
     "name": "stdout",
     "output_type": "stream",
     "text": [
      "33\n"
     ]
    }
   ],
   "source": [
    "myAge = myAge+1\n",
    "print(myAge)"
   ]
  },
  {
   "cell_type": "markdown",
   "id": "34a8f409-4d36-4149-bc8c-72ef16b13cea",
   "metadata": {},
   "source": [
    "### Challenge\n",
    "1) Create a var \"restaurantBill\" and set its value to 36.17\n",
    "2) Create a var \"serviceCharge\" and set its value to 0.125\n",
    "3) Print out the amount of tip"
   ]
  },
  {
   "cell_type": "code",
   "execution_count": 4,
   "id": "d6d79653-4925-4ca9-8372-04f77a3759cd",
   "metadata": {},
   "outputs": [
    {
     "name": "stdout",
     "output_type": "stream",
     "text": [
      "tip =  4.52125\n"
     ]
    }
   ],
   "source": [
    "restaurantBill = 36.17\n",
    "serviceCharge = 0.125\n",
    "tip = restaurantBill * serviceCharge\n",
    "print (\"tip = \", tip)"
   ]
  },
  {
   "cell_type": "markdown",
   "id": "fecacb96-375d-4266-87f5-d2bd4be30e85",
   "metadata": {},
   "source": [
    "### Data Types\n",
    "\n",
    "We can know the type of our data with the type() method. Some examples:"
   ]
  },
  {
   "cell_type": "code",
   "execution_count": 5,
   "id": "c7ec9c1d-3dcc-4523-911b-58d58509abc3",
   "metadata": {},
   "outputs": [
    {
     "data": {
      "text/plain": [
       "float"
      ]
     },
     "execution_count": 5,
     "metadata": {},
     "output_type": "execute_result"
    }
   ],
   "source": [
    "type(33.2)"
   ]
  },
  {
   "cell_type": "code",
   "execution_count": 6,
   "id": "6d1b9698-4d78-416a-a689-3fbc43aac976",
   "metadata": {},
   "outputs": [
    {
     "data": {
      "text/plain": [
       "int"
      ]
     },
     "execution_count": 6,
     "metadata": {},
     "output_type": "execute_result"
    }
   ],
   "source": [
    "type(myAge)"
   ]
  },
  {
   "cell_type": "code",
   "execution_count": 7,
   "id": "88d02b7b-bdab-41ae-8426-7c7fc3814ce4",
   "metadata": {},
   "outputs": [
    {
     "data": {
      "text/plain": [
       "str"
      ]
     },
     "execution_count": 7,
     "metadata": {},
     "output_type": "execute_result"
    }
   ],
   "source": [
    "type('Elena')"
   ]
  },
  {
   "cell_type": "markdown",
   "id": "1b24c4c4-368f-4a13-af2a-925073b041cd",
   "metadata": {},
   "source": [
    "## Lists and Arrays\n",
    "\n",
    "Lists are prebuilt into Python.\n",
    "\n",
    "Lists can mix different types of data:"
   ]
  },
  {
   "cell_type": "code",
   "execution_count": 8,
   "id": "01f1456e-6710-4ffb-a268-1988033b8c0a",
   "metadata": {},
   "outputs": [
    {
     "data": {
      "text/plain": [
       "list"
      ]
     },
     "execution_count": 8,
     "metadata": {},
     "output_type": "execute_result"
    }
   ],
   "source": [
    "primesAndPeople = ['Jay Z', 17, 'JLo']\n",
    "type(primesAndPeople)"
   ]
  },
  {
   "cell_type": "markdown",
   "id": "31c533b1-1fa4-445e-b087-45c292443ff4",
   "metadata": {},
   "source": [
    "## Lists and Arrays"
   ]
  },
  {
   "cell_type": "markdown",
   "id": "f2364d1b-e19e-4e63-8aef-90d1f65cbd67",
   "metadata": {},
   "source": [
    "Lists and Arrays indexes start from 0:"
   ]
  },
  {
   "cell_type": "code",
   "execution_count": 9,
   "id": "08da2300-967a-4919-a961-4aa0f04a9714",
   "metadata": {},
   "outputs": [
    {
     "data": {
      "text/plain": [
       "17"
      ]
     },
     "execution_count": 9,
     "metadata": {},
     "output_type": "execute_result"
    }
   ],
   "source": [
    "primesAndPeople[1]"
   ]
  },
  {
   "cell_type": "markdown",
   "id": "5e54f602-1a1a-4da0-a2fd-60545a14371a",
   "metadata": {},
   "source": [
    "**Difference between both:**\n",
    "- Lists can contain variables with different data types\n",
    "- Arrays use the same [] notation than lists, but all data inside them must be of the same type."
   ]
  },
  {
   "cell_type": "markdown",
   "id": "9a155e58-f7aa-4430-a557-200e42b58015",
   "metadata": {},
   "source": [
    "## Coding Exercise 2\n",
    "Given that on line 2, you have access to a List called scores that contains a bunch of whole numbers ordered randomly.\n",
    "\n",
    "On line 3, we've created a variable called top_scores which contains an empty List.\n",
    "\n",
    "Write some code to create a new List that has the top 3 highest scores from the List of scores and assign that List to top_scores.\n",
    "\n",
    "e.g. If: scores = [43, 12, 6, 78, 2, 14]\n",
    "\n",
    "After your code is executed, the variable top_scores should equal [78, 43, 14].\n",
    "\n",
    "_Hint_: You might need figure out how to sort the List and figure out the size of the List using a quick Google search.\n",
    "\n",
    "**Solution:**"
   ]
  },
  {
   "cell_type": "code",
   "execution_count": 10,
   "id": "01f21b58-4566-457c-a68a-638d95c6529e",
   "metadata": {},
   "outputs": [
    {
     "data": {
      "text/plain": [
       "[78, 43, 14]"
      ]
     },
     "execution_count": 10,
     "metadata": {},
     "output_type": "execute_result"
    }
   ],
   "source": [
    "    scores = [43, 12, 6, 78, 2, 14]\n",
    "    top_scores = []\n",
    "    \n",
    "    \n",
    "    scores.sort()\n",
    "    top_scores = [scores[len(scores)-1], scores[len(scores)-2], scores[len(scores)-3]]\n",
    "    \n",
    "    \n",
    "    \n",
    "    # Leave this line alone\n",
    "\n",
    "    top_scores"
   ]
  },
  {
   "cell_type": "markdown",
   "id": "df1c22b8-ec60-41d5-9d39-47ffcfcd2825",
   "metadata": {},
   "source": [
    "## Data Frames"
   ]
  },
  {
   "cell_type": "code",
   "execution_count": 11,
   "id": "33ba1d03-f7f6-4df8-89de-7ad4ee8e8dea",
   "metadata": {},
   "outputs": [
    {
     "data": {
      "text/html": [
       "<div>\n",
       "<style scoped>\n",
       "    .dataframe tbody tr th:only-of-type {\n",
       "        vertical-align: middle;\n",
       "    }\n",
       "\n",
       "    .dataframe tbody tr th {\n",
       "        vertical-align: top;\n",
       "    }\n",
       "\n",
       "    .dataframe thead th {\n",
       "        text-align: right;\n",
       "    }\n",
       "</style>\n",
       "<table border=\"1\" class=\"dataframe\">\n",
       "  <thead>\n",
       "    <tr style=\"text-align: right;\">\n",
       "      <th></th>\n",
       "      <th>Time_Delay_in_Minutes</th>\n",
       "      <th>LSD_ppm</th>\n",
       "      <th>Avg_Math_Test_Score</th>\n",
       "    </tr>\n",
       "  </thead>\n",
       "  <tbody>\n",
       "    <tr>\n",
       "      <th>0</th>\n",
       "      <td>5</td>\n",
       "      <td>1.17</td>\n",
       "      <td>78.93</td>\n",
       "    </tr>\n",
       "    <tr>\n",
       "      <th>1</th>\n",
       "      <td>15</td>\n",
       "      <td>2.97</td>\n",
       "      <td>58.20</td>\n",
       "    </tr>\n",
       "    <tr>\n",
       "      <th>2</th>\n",
       "      <td>30</td>\n",
       "      <td>3.26</td>\n",
       "      <td>67.47</td>\n",
       "    </tr>\n",
       "    <tr>\n",
       "      <th>3</th>\n",
       "      <td>60</td>\n",
       "      <td>4.69</td>\n",
       "      <td>37.47</td>\n",
       "    </tr>\n",
       "    <tr>\n",
       "      <th>4</th>\n",
       "      <td>120</td>\n",
       "      <td>5.83</td>\n",
       "      <td>45.65</td>\n",
       "    </tr>\n",
       "    <tr>\n",
       "      <th>5</th>\n",
       "      <td>240</td>\n",
       "      <td>6.00</td>\n",
       "      <td>32.92</td>\n",
       "    </tr>\n",
       "    <tr>\n",
       "      <th>6</th>\n",
       "      <td>480</td>\n",
       "      <td>6.41</td>\n",
       "      <td>29.97</td>\n",
       "    </tr>\n",
       "  </tbody>\n",
       "</table>\n",
       "</div>"
      ],
      "text/plain": [
       "   Time_Delay_in_Minutes  LSD_ppm  Avg_Math_Test_Score\n",
       "0                      5     1.17                78.93\n",
       "1                     15     2.97                58.20\n",
       "2                     30     3.26                67.47\n",
       "3                     60     4.69                37.47\n",
       "4                    120     5.83                45.65\n",
       "5                    240     6.00                32.92\n",
       "6                    480     6.41                29.97"
      ]
     },
     "execution_count": 11,
     "metadata": {},
     "output_type": "execute_result"
    }
   ],
   "source": [
    "import pandas as pd\n",
    "\n",
    "data = pd.read_csv('lsd_math_score_data.csv')\n",
    "\n",
    "data"
   ]
  },
  {
   "cell_type": "code",
   "execution_count": 12,
   "id": "e7f865e2-22b3-42e6-ae86-52ce00174412",
   "metadata": {},
   "outputs": [
    {
     "data": {
      "text/plain": [
       "pandas.core.frame.DataFrame"
      ]
     },
     "execution_count": 12,
     "metadata": {},
     "output_type": "execute_result"
    }
   ],
   "source": [
    "type(data)"
   ]
  },
  {
   "cell_type": "markdown",
   "id": "6aa8d0c2-4db1-44c0-be05-ae84f82aa69f",
   "metadata": {},
   "source": [
    "**Getting the data of a specific column**\n",
    "\n",
    "We just need to specify the column name"
   ]
  },
  {
   "cell_type": "code",
   "execution_count": 13,
   "id": "7a2c7902-e282-428f-9aa1-04fe2d344861",
   "metadata": {},
   "outputs": [
    {
     "data": {
      "text/plain": [
       "0    78.93\n",
       "1    58.20\n",
       "2    67.47\n",
       "3    37.47\n",
       "4    45.65\n",
       "5    32.92\n",
       "6    29.97\n",
       "Name: Avg_Math_Test_Score, dtype: float64"
      ]
     },
     "execution_count": 13,
     "metadata": {},
     "output_type": "execute_result"
    }
   ],
   "source": [
    "data['Avg_Math_Test_Score']"
   ]
  },
  {
   "cell_type": "markdown",
   "id": "5e833f73-d135-409c-adf0-01dc2259678b",
   "metadata": {},
   "source": [
    "Notes:\n",
    "- Specifying the position as if it was a list/array won't work\n",
    "- If we make a spelling mistake, we'll get a \"KeyError\""
   ]
  },
  {
   "cell_type": "code",
   "execution_count": 14,
   "id": "7805a750-9bea-449b-94b0-882281069160",
   "metadata": {},
   "outputs": [],
   "source": [
    "onlyMathScores = data['Avg_Math_Test_Score']"
   ]
  },
  {
   "cell_type": "markdown",
   "id": "a35372e4-138e-4327-960b-46e3b31a3fa7",
   "metadata": {},
   "source": [
    "**Add a new column**"
   ]
  },
  {
   "cell_type": "code",
   "execution_count": 15,
   "id": "fbfd221e-1595-43ac-ad56-e05690befe5d",
   "metadata": {},
   "outputs": [
    {
     "name": "stdout",
     "output_type": "stream",
     "text": [
      "   Time_Delay_in_Minutes  LSD_ppm  Avg_Math_Test_Score Test_Subject\n",
      "0                      5     1.17                78.93          JLo\n",
      "1                     15     2.97                58.20          JLo\n",
      "2                     30     3.26                67.47          JLo\n",
      "3                     60     4.69                37.47          JLo\n",
      "4                    120     5.83                45.65          JLo\n",
      "5                    240     6.00                32.92          JLo\n",
      "6                    480     6.41                29.97          JLo\n"
     ]
    }
   ],
   "source": [
    "data['Test_Subject'] = 'JLo'\n",
    "print(data)"
   ]
  },
  {
   "cell_type": "markdown",
   "id": "c73729f0-7053-4d2d-8706-a5d32ad8f859",
   "metadata": {},
   "source": [
    "**Manipulate a column's values**\n",
    "\n",
    "We just need to assign the new values as with any other variable:"
   ]
  },
  {
   "cell_type": "code",
   "execution_count": 16,
   "id": "10d88a7e-ccf9-46c8-8310-c42f67007454",
   "metadata": {},
   "outputs": [
    {
     "data": {
      "text/plain": [
       "0    178.93\n",
       "1    158.20\n",
       "2    167.47\n",
       "3    137.47\n",
       "4    145.65\n",
       "5    132.92\n",
       "6    129.97\n",
       "Name: High_Score, dtype: float64"
      ]
     },
     "execution_count": 16,
     "metadata": {},
     "output_type": "execute_result"
    }
   ],
   "source": [
    "data['High_Score']=data['Avg_Math_Test_Score']+100\n",
    "data['High_Score']"
   ]
  },
  {
   "cell_type": "markdown",
   "id": "866a38bf-f2f7-4df6-a64f-ba3378b0edf5",
   "metadata": {},
   "source": [
    "**Exercise:** We want to make the High_Score to be the square of Avg_Math_Test_Score\n",
    "\n",
    "There's multiple ways to do this. Let's explore 3 of them:"
   ]
  },
  {
   "cell_type": "code",
   "execution_count": 17,
   "id": "a01034ab-0be5-4f14-9ff0-27f5773ad0fc",
   "metadata": {},
   "outputs": [
    {
     "data": {
      "text/plain": [
       "0    6229.9449\n",
       "1    3387.2400\n",
       "2    4552.2009\n",
       "3    1404.0009\n",
       "4    2083.9225\n",
       "5    1083.7264\n",
       "6     898.2009\n",
       "Name: High_Score, dtype: float64"
      ]
     },
     "execution_count": 17,
     "metadata": {},
     "output_type": "execute_result"
    }
   ],
   "source": [
    "data['High_Score'] = data['Avg_Math_Test_Score'] * data['Avg_Math_Test_Score']\n",
    "data['High_Score']"
   ]
  },
  {
   "cell_type": "code",
   "execution_count": 18,
   "id": "b018920b-0cfb-49a5-9240-8bcb96b045f6",
   "metadata": {},
   "outputs": [
    {
     "data": {
      "text/plain": [
       "0    6229.9449\n",
       "1    3387.2400\n",
       "2    4552.2009\n",
       "3    1404.0009\n",
       "4    2083.9225\n",
       "5    1083.7264\n",
       "6     898.2009\n",
       "Name: High_Score, dtype: float64"
      ]
     },
     "execution_count": 18,
     "metadata": {},
     "output_type": "execute_result"
    }
   ],
   "source": [
    "data['High_Score'] = pow(data['Avg_Math_Test_Score'],2)\n",
    "data['High_Score']"
   ]
  },
  {
   "cell_type": "code",
   "execution_count": 19,
   "id": "48418d45-459c-475c-973c-f1ccf52c311b",
   "metadata": {},
   "outputs": [
    {
     "data": {
      "text/plain": [
       "0    6229.9449\n",
       "1    3387.2400\n",
       "2    4552.2009\n",
       "3    1404.0009\n",
       "4    2083.9225\n",
       "5    1083.7264\n",
       "6     898.2009\n",
       "Name: High_Score, dtype: float64"
      ]
     },
     "execution_count": 19,
     "metadata": {},
     "output_type": "execute_result"
    }
   ],
   "source": [
    "data['High_Score'] = data['Avg_Math_Test_Score']** 2\n",
    "data['High_Score']"
   ]
  },
  {
   "cell_type": "markdown",
   "id": "a1f51090-42c2-49ea-b8d3-14077433f6af",
   "metadata": {},
   "source": [
    "Let's explore the data types of Data Frames.\n",
    "\n",
    "We created a variable before, storing one of our columns. Let's see its type:\n"
   ]
  },
  {
   "cell_type": "code",
   "execution_count": 20,
   "id": "b9ef7234-cf69-4ab5-8417-22c951427063",
   "metadata": {},
   "outputs": [
    {
     "data": {
      "text/plain": [
       "pandas.core.series.Series"
      ]
     },
     "execution_count": 20,
     "metadata": {},
     "output_type": "execute_result"
    }
   ],
   "source": [
    "type(onlyMathScores)"
   ]
  },
  {
   "cell_type": "markdown",
   "id": "67f70f9d-2c3d-480b-af1c-999cd62b4be0",
   "metadata": {},
   "source": [
    "Now, what's the **difference between a Series and an array?**\n",
    "\n",
    "- Key difference: A series is always one column, it always has just one dimension. An array can be a matrix.\n",
    "- Also, a series can have an attribute, like a name (the column name)\n",
    "\n",
    "Nature of DataFrames: A DataFrame is a collection of series.\n",
    "\n",
    "Say we now want to extract not just one column of our DataFrame, but more than one. We want to create a subset of our 'data' DataFrame."
   ]
  },
  {
   "cell_type": "code",
   "execution_count": 21,
   "id": "b4e602f2-8050-4301-a876-84918a8404a9",
   "metadata": {},
   "outputs": [
    {
     "data": {
      "text/html": [
       "<div>\n",
       "<style scoped>\n",
       "    .dataframe tbody tr th:only-of-type {\n",
       "        vertical-align: middle;\n",
       "    }\n",
       "\n",
       "    .dataframe tbody tr th {\n",
       "        vertical-align: top;\n",
       "    }\n",
       "\n",
       "    .dataframe thead th {\n",
       "        text-align: right;\n",
       "    }\n",
       "</style>\n",
       "<table border=\"1\" class=\"dataframe\">\n",
       "  <thead>\n",
       "    <tr style=\"text-align: right;\">\n",
       "      <th></th>\n",
       "      <th>Time_Delay_in_Minutes</th>\n",
       "      <th>LSD_ppm</th>\n",
       "      <th>Avg_Math_Test_Score</th>\n",
       "      <th>Test_Subject</th>\n",
       "      <th>High_Score</th>\n",
       "    </tr>\n",
       "  </thead>\n",
       "  <tbody>\n",
       "    <tr>\n",
       "      <th>0</th>\n",
       "      <td>5</td>\n",
       "      <td>1.17</td>\n",
       "      <td>78.93</td>\n",
       "      <td>JLo</td>\n",
       "      <td>6229.9449</td>\n",
       "    </tr>\n",
       "    <tr>\n",
       "      <th>1</th>\n",
       "      <td>15</td>\n",
       "      <td>2.97</td>\n",
       "      <td>58.20</td>\n",
       "      <td>JLo</td>\n",
       "      <td>3387.2400</td>\n",
       "    </tr>\n",
       "    <tr>\n",
       "      <th>2</th>\n",
       "      <td>30</td>\n",
       "      <td>3.26</td>\n",
       "      <td>67.47</td>\n",
       "      <td>JLo</td>\n",
       "      <td>4552.2009</td>\n",
       "    </tr>\n",
       "    <tr>\n",
       "      <th>3</th>\n",
       "      <td>60</td>\n",
       "      <td>4.69</td>\n",
       "      <td>37.47</td>\n",
       "      <td>JLo</td>\n",
       "      <td>1404.0009</td>\n",
       "    </tr>\n",
       "    <tr>\n",
       "      <th>4</th>\n",
       "      <td>120</td>\n",
       "      <td>5.83</td>\n",
       "      <td>45.65</td>\n",
       "      <td>JLo</td>\n",
       "      <td>2083.9225</td>\n",
       "    </tr>\n",
       "    <tr>\n",
       "      <th>5</th>\n",
       "      <td>240</td>\n",
       "      <td>6.00</td>\n",
       "      <td>32.92</td>\n",
       "      <td>JLo</td>\n",
       "      <td>1083.7264</td>\n",
       "    </tr>\n",
       "    <tr>\n",
       "      <th>6</th>\n",
       "      <td>480</td>\n",
       "      <td>6.41</td>\n",
       "      <td>29.97</td>\n",
       "      <td>JLo</td>\n",
       "      <td>898.2009</td>\n",
       "    </tr>\n",
       "  </tbody>\n",
       "</table>\n",
       "</div>"
      ],
      "text/plain": [
       "   Time_Delay_in_Minutes  LSD_ppm  Avg_Math_Test_Score Test_Subject  \\\n",
       "0                      5     1.17                78.93          JLo   \n",
       "1                     15     2.97                58.20          JLo   \n",
       "2                     30     3.26                67.47          JLo   \n",
       "3                     60     4.69                37.47          JLo   \n",
       "4                    120     5.83                45.65          JLo   \n",
       "5                    240     6.00                32.92          JLo   \n",
       "6                    480     6.41                29.97          JLo   \n",
       "\n",
       "   High_Score  \n",
       "0   6229.9449  \n",
       "1   3387.2400  \n",
       "2   4552.2009  \n",
       "3   1404.0009  \n",
       "4   2083.9225  \n",
       "5   1083.7264  \n",
       "6    898.2009  "
      ]
     },
     "execution_count": 21,
     "metadata": {},
     "output_type": "execute_result"
    }
   ],
   "source": [
    "data"
   ]
  },
  {
   "cell_type": "markdown",
   "id": "053dbd1e-8cb6-41a0-90ba-b12b785a5031",
   "metadata": {},
   "source": [
    "Imagine we're just interested in our LSD_ppm and Avg_Math_Test_Score. This is how we'd extract a subset of this DataFrame (creating another DataFrame indeed):"
   ]
  },
  {
   "cell_type": "code",
   "execution_count": 22,
   "id": "baf39cef-65d1-4a8c-bae6-e5424d53fd5f",
   "metadata": {},
   "outputs": [
    {
     "data": {
      "text/plain": [
       "[0    1.17\n",
       " 1    2.97\n",
       " 2    3.26\n",
       " 3    4.69\n",
       " 4    5.83\n",
       " 5    6.00\n",
       " 6    6.41\n",
       " Name: LSD_ppm, dtype: float64,\n",
       " 0    78.93\n",
       " 1    58.20\n",
       " 2    67.47\n",
       " 3    37.47\n",
       " 4    45.65\n",
       " 5    32.92\n",
       " 6    29.97\n",
       " Name: Avg_Math_Test_Score, dtype: float64]"
      ]
     },
     "execution_count": 22,
     "metadata": {},
     "output_type": "execute_result"
    }
   ],
   "source": [
    "columnList = [data['LSD_ppm'], data['Avg_Math_Test_Score']]\n",
    "columnList"
   ]
  },
  {
   "cell_type": "markdown",
   "id": "91b92f7a-4afa-4791-b244-6f34c2c8de88",
   "metadata": {},
   "source": [
    "**NO!!!!** This way we're creating a simple list with all the data. What we should do is to list the series inside the DataFrame (together, nesting a list inside the dataframe):"
   ]
  },
  {
   "cell_type": "code",
   "execution_count": 23,
   "id": "876d2f18-2cd7-424f-a23e-2c67d3a082c1",
   "metadata": {},
   "outputs": [
    {
     "data": {
      "text/html": [
       "<div>\n",
       "<style scoped>\n",
       "    .dataframe tbody tr th:only-of-type {\n",
       "        vertical-align: middle;\n",
       "    }\n",
       "\n",
       "    .dataframe tbody tr th {\n",
       "        vertical-align: top;\n",
       "    }\n",
       "\n",
       "    .dataframe thead th {\n",
       "        text-align: right;\n",
       "    }\n",
       "</style>\n",
       "<table border=\"1\" class=\"dataframe\">\n",
       "  <thead>\n",
       "    <tr style=\"text-align: right;\">\n",
       "      <th></th>\n",
       "      <th>LSD_ppm</th>\n",
       "      <th>Avg_Math_Test_Score</th>\n",
       "    </tr>\n",
       "  </thead>\n",
       "  <tbody>\n",
       "    <tr>\n",
       "      <th>0</th>\n",
       "      <td>1.17</td>\n",
       "      <td>78.93</td>\n",
       "    </tr>\n",
       "    <tr>\n",
       "      <th>1</th>\n",
       "      <td>2.97</td>\n",
       "      <td>58.20</td>\n",
       "    </tr>\n",
       "    <tr>\n",
       "      <th>2</th>\n",
       "      <td>3.26</td>\n",
       "      <td>67.47</td>\n",
       "    </tr>\n",
       "    <tr>\n",
       "      <th>3</th>\n",
       "      <td>4.69</td>\n",
       "      <td>37.47</td>\n",
       "    </tr>\n",
       "    <tr>\n",
       "      <th>4</th>\n",
       "      <td>5.83</td>\n",
       "      <td>45.65</td>\n",
       "    </tr>\n",
       "    <tr>\n",
       "      <th>5</th>\n",
       "      <td>6.00</td>\n",
       "      <td>32.92</td>\n",
       "    </tr>\n",
       "    <tr>\n",
       "      <th>6</th>\n",
       "      <td>6.41</td>\n",
       "      <td>29.97</td>\n",
       "    </tr>\n",
       "  </tbody>\n",
       "</table>\n",
       "</div>"
      ],
      "text/plain": [
       "   LSD_ppm  Avg_Math_Test_Score\n",
       "0     1.17                78.93\n",
       "1     2.97                58.20\n",
       "2     3.26                67.47\n",
       "3     4.69                37.47\n",
       "4     5.83                45.65\n",
       "5     6.00                32.92\n",
       "6     6.41                29.97"
      ]
     },
     "execution_count": 23,
     "metadata": {},
     "output_type": "execute_result"
    }
   ],
   "source": [
    "columnList = data[['LSD_ppm','Avg_Math_Test_Score']]\n",
    "columnList"
   ]
  },
  {
   "cell_type": "markdown",
   "id": "e67a7c9a-bc60-42a0-9e65-943dac5f5863",
   "metadata": {},
   "source": [
    "We'll want to predict the Maths test score, so let's create an object (series) for that:"
   ]
  },
  {
   "cell_type": "code",
   "execution_count": 24,
   "id": "3726d31a-c1f9-4f41-800a-a0c8d1a20442",
   "metadata": {},
   "outputs": [],
   "source": [
    "y = data['Avg_Math_Test_Score']"
   ]
  },
  {
   "cell_type": "markdown",
   "id": "93fd11c3-d27f-45d1-830e-d093371ed8bc",
   "metadata": {},
   "source": [
    "**Challenge**\n",
    "1) Create a variable called X\n",
    "- Set X equal to the values of LSD_ppm\n",
    "- **Make sure X is a dataframe**\n",
    "2) Print the value of X\n",
    "3) Show the type of X"
   ]
  },
  {
   "cell_type": "code",
   "execution_count": 25,
   "id": "063b7ef7-2a15-4d8a-b7b9-4361c36e3894",
   "metadata": {},
   "outputs": [
    {
     "name": "stdout",
     "output_type": "stream",
     "text": [
      "   LSD_ppm\n",
      "0     1.17\n",
      "1     2.97\n",
      "2     3.26\n",
      "3     4.69\n",
      "4     5.83\n",
      "5     6.00\n",
      "6     6.41\n"
     ]
    },
    {
     "data": {
      "text/plain": [
       "pandas.core.frame.DataFrame"
      ]
     },
     "execution_count": 25,
     "metadata": {},
     "output_type": "execute_result"
    }
   ],
   "source": [
    "X = data[['LSD_ppm']]\n",
    "print(X)\n",
    "type(X)"
   ]
  },
  {
   "cell_type": "markdown",
   "id": "914fcd59-e402-440d-b5a9-0a76747a3170",
   "metadata": {},
   "source": [
    "**Solution:** We need to put a double bracket if we want to create a DataFrame from another DataFrame."
   ]
  },
  {
   "cell_type": "markdown",
   "id": "91e1c5be-49d6-4603-94d5-a31393cfeca7",
   "metadata": {},
   "source": [
    "**Delete a column**"
   ]
  },
  {
   "cell_type": "code",
   "execution_count": 26,
   "id": "c92906c4-8016-495e-b57a-fba0b28ba7ad",
   "metadata": {},
   "outputs": [],
   "source": [
    "del data['Test_Subject']"
   ]
  },
  {
   "cell_type": "markdown",
   "id": "b0ca7b5f-bbde-4dae-92bf-59072d257ca0",
   "metadata": {},
   "source": [
    "## Imports & Modules"
   ]
  },
  {
   "cell_type": "markdown",
   "id": "b1221bef-9dcd-4f83-a26c-7f9a4d8d4666",
   "metadata": {},
   "source": [
    "All files ended in .py are Python scripts or modules (files with Python code inside).\n",
    "\n",
    "**Note - Difference between both:** scripts are intended to be run directly, whereas modules are meant to be imported.\n",
    "\n",
    "By importing a module, we can access the variables and functions inside that file.\n",
    "\n",
    "As an example, let's create a life.py file, this is, a module. Then use it."
   ]
  },
  {
   "cell_type": "code",
   "execution_count": 27,
   "id": "c4113aa6-cf8b-48fa-9ba5-5e03b5ef616b",
   "metadata": {},
   "outputs": [
    {
     "data": {
      "text/plain": [
       "module"
      ]
     },
     "execution_count": 27,
     "metadata": {},
     "output_type": "execute_result"
    }
   ],
   "source": [
    "import life\n",
    "type(life)"
   ]
  },
  {
   "cell_type": "markdown",
   "id": "85a19253-2ca8-4bd9-991d-760b08e9bb36",
   "metadata": {},
   "source": [
    "Let's access the value of the \"theAnswer\" variable that we created inside our new module, \"life\". For that, Python uses the dot notation (\".\"):"
   ]
  },
  {
   "cell_type": "code",
   "execution_count": 28,
   "id": "6f12f4cc-fc36-4dfe-a348-6a3013b4ce57",
   "metadata": {},
   "outputs": [
    {
     "data": {
      "text/plain": [
       "42"
      ]
     },
     "execution_count": 28,
     "metadata": {},
     "output_type": "execute_result"
    }
   ],
   "source": [
    "life.theAnswer"
   ]
  },
  {
   "cell_type": "markdown",
   "id": "2bf55397-22b3-418f-ad12-116e07b7d681",
   "metadata": {},
   "source": [
    "Another way of doing this would be:"
   ]
  },
  {
   "cell_type": "code",
   "execution_count": 29,
   "id": "574d92b9-b1e6-4eca-8dba-30fb8fbd2d02",
   "metadata": {},
   "outputs": [
    {
     "data": {
      "text/plain": [
       "42"
      ]
     },
     "execution_count": 29,
     "metadata": {},
     "output_type": "execute_result"
    }
   ],
   "source": [
    "from life import theAnswer\n",
    "theAnswer"
   ]
  },
  {
   "cell_type": "markdown",
   "id": "99b81b13-ab41-4248-a77a-9a35d9473bbb",
   "metadata": {},
   "source": [
    "But in this case, importing \"theAnswer\", we're already creating a variable called \"the answer\", we have its value and we can use it, e.g. we could update it directly, without the \"life.theAnswer\" notation."
   ]
  },
  {
   "cell_type": "markdown",
   "id": "9df9c4b4-d32e-4804-8863-cf3042a8ed1f",
   "metadata": {},
   "source": [
    "**Packages:**\n",
    "\n",
    "Why is pandas referred to as a ”package”? Because a package is a collection of files, and pandas is a collection of module files.\n",
    "\n",
    "The Python programming language also has several modules that we can install, e.g. “math”"
   ]
  },
  {
   "cell_type": "code",
   "execution_count": 30,
   "id": "32e8f28d-3f33-4ff3-8b12-7181659a7c42",
   "metadata": {},
   "outputs": [],
   "source": [
    "import math"
   ]
  },
  {
   "cell_type": "code",
   "execution_count": 31,
   "id": "e1d55f76-0e13-429a-b629-283682b4c9b5",
   "metadata": {},
   "outputs": [
    {
     "data": {
      "text/plain": [
       "3.141592653589793"
      ]
     },
     "execution_count": 31,
     "metadata": {},
     "output_type": "execute_result"
    }
   ],
   "source": [
    "math.pi"
   ]
  },
  {
   "cell_type": "code",
   "execution_count": 32,
   "id": "6996152f-148a-4e2f-b91d-dc26108f67bf",
   "metadata": {},
   "outputs": [
    {
     "data": {
      "text/plain": [
       "2.718281828459045"
      ]
     },
     "execution_count": 32,
     "metadata": {},
     "output_type": "execute_result"
    }
   ],
   "source": [
    "math.e"
   ]
  },
  {
   "cell_type": "markdown",
   "id": "4e6486e4-926b-4844-9373-196dde1417e2",
   "metadata": {},
   "source": [
    "Now, let's set the stage for analysing the effects of LSD on maths testers, by importing our pyplot from matplotlib and our linear regressino to draw our line. No need to import pandas as we've imported it before in this same notebook:"
   ]
  },
  {
   "cell_type": "code",
   "execution_count": 33,
   "id": "763cc913-a144-4517-91be-1ec25ffce295",
   "metadata": {},
   "outputs": [],
   "source": [
    "import matplotlib.pyplot as plt\n",
    "from sklearn.linear_model import LinearRegression"
   ]
  },
  {
   "cell_type": "markdown",
   "id": "6ada7a90-9b60-4e9c-b57a-61fd37075cbb",
   "metadata": {},
   "source": [
    "## Functions\n",
    "\n",
    "Also called \"methods\" in other programming languages.\n",
    "\n",
    "Functions are:\n",
    "- Created by def function():\n",
    "- Used with function()\n",
    "\n",
    "Example of a function definition. Notice that when you click enter after the name of the function you're defining, the Jupyter Notebook already indents automatically the following sentences. That indentation matters, because it means that the indented code is actually the function definition. Indentation shows to Python when a piece of code ends and other begins."
   ]
  },
  {
   "cell_type": "code",
   "execution_count": 34,
   "id": "0a5862c6-1426-4e35-aac2-6cfbf10a661d",
   "metadata": {},
   "outputs": [],
   "source": [
    "def get_milk():\n",
    "    print('Open door')\n",
    "    print('Walk to the store')\n",
    "    print('Buy milk')\n",
    "    print('Return with milk galore')"
   ]
  },
  {
   "cell_type": "markdown",
   "id": "33692f94-6e94-4659-a3c1-a58fcd163539",
   "metadata": {},
   "source": [
    "Let's call/execute the get_milk function:"
   ]
  },
  {
   "cell_type": "code",
   "execution_count": 35,
   "id": "4030b2c5-d6a5-494e-8dd8-857ea4dcde6e",
   "metadata": {},
   "outputs": [
    {
     "name": "stdout",
     "output_type": "stream",
     "text": [
      "Open door\n",
      "Walk to the store\n",
      "Buy milk\n",
      "Return with milk galore\n"
     ]
    }
   ],
   "source": [
    "get_milk()"
   ]
  },
  {
   "cell_type": "markdown",
   "id": "2fe076ee-6a10-47b9-8715-34e44e999f77",
   "metadata": {},
   "source": [
    "## Coding Exercise 3: Python Functions - Part 1\n",
    "Given that you have 2 functions.\n",
    "\n",
    "1. moveForwards() which moves your robot forwards by 1 step.\n",
    "\n",
    "2. turnRight() which turns your robot clockwise by 90º.\n",
    "\n",
    "Write some code to navigate your robot to the destination marked in the map below:"
   ]
  },
  {
   "attachments": {
    "a9807e63-09ff-4830-b40d-2b448ef042a1.png": {
     "image/png": "[encoded data removed]"
    }
   },
   "cell_type": "markdown",
   "id": "2c9388eb-ce57-4ef2-b5a3-03360fdaa8df",
   "metadata": {},
   "source": [
    "![robot_map.png](attachment:a9807e63-09ff-4830-b40d-2b448ef042a1.png)"
   ]
  },
  {
   "cell_type": "code",
   "execution_count": 36,
   "id": "8e6dc38e-7b94-485d-b554-071788c2b59f",
   "metadata": {},
   "outputs": [],
   "source": [
    "tracker = 0\n",
    "\n",
    "def moveForwards():\n",
    "    global tracker \n",
    "    tracker += 1\n",
    "    print('moved forward by one step.')\n",
    "\n",
    "def turnRight():\n",
    "    global tracker\n",
    "    tracker -= 1\n",
    "    print('turning right')\n",
    "    \n",
    "def move():\n",
    "\n",
    "    #Solution \n",
    "    # REMEMBER TO LEAVE THE INDENT!!! Otherwise Python can't know that we're defininf the function\n",
    "    moveForwards()\n",
    "    turnRight()\n",
    "    turnRight()\n",
    "    turnRight()\n",
    "    moveForwards()\n",
    "    turnRight()\n",
    "    turnRight()\n",
    "    turnRight()\n",
    "    moveForwards()\n",
    "    turnRight()\n",
    "    moveForwards()\n",
    "    turnRight()\n",
    "    moveForwards()\n",
    "    moveForwards()\n",
    "    \n",
    "    return tracker"
   ]
  },
  {
   "cell_type": "markdown",
   "id": "fa61f60e-5922-4b36-b36a-36be17c575a4",
   "metadata": {},
   "source": [
    "## Functions - Arguments & Parameters\n",
    "\n",
    "Functions can have no input, or they can have it. Function inputs are called arguments or parameters. Let's modify our previous created function getMilk() and create a new one, this time with one parameter:"
   ]
  },
  {
   "cell_type": "code",
   "execution_count": 37,
   "id": "8e85bb96-dbf6-4173-8c81-8cb962a02147",
   "metadata": {},
   "outputs": [],
   "source": [
    "def fillTheFridge(amount):\n",
    "    print('Open the door')\n",
    "    print('Walk to the store')\n",
    "    print('Buy ' + amount + ' galores of milk')\n",
    "    print('Return with milk galores')"
   ]
  },
  {
   "cell_type": "code",
   "execution_count": 38,
   "id": "2beae7e7-6e10-4761-82aa-5542d4d9d76f",
   "metadata": {},
   "outputs": [
    {
     "name": "stdout",
     "output_type": "stream",
     "text": [
      "Open the door\n",
      "Walk to the store\n",
      "Buy four galores of milk\n",
      "Return with milk galores\n"
     ]
    }
   ],
   "source": [
    "fillTheFridge('four')"
   ]
  },
  {
   "cell_type": "code",
   "execution_count": 39,
   "id": "b6c046a4-f09a-46be-b72e-26966b4d84c2",
   "metadata": {},
   "outputs": [
    {
     "name": "stdout",
     "output_type": "stream",
     "text": [
      "Open the door\n",
      "Walk to the store\n",
      "Buy two million galores of milk\n",
      "Return with milk galores\n"
     ]
    }
   ],
   "source": [
    "fillTheFridge('two million')"
   ]
  },
  {
   "cell_type": "markdown",
   "id": "6bf16960-e2b3-42dd-b352-c7d11d9cea48",
   "metadata": {},
   "source": [
    "If we think about it, print() is another function receiving an argument (the text we want to print). We are nesting one function inside another.\n",
    "\n",
    "**Difference between parameter and argument**:\n",
    "- Parameters are the inputs that we are defining, at the moment of the function definition. (e.g. \"amount\") \n",
    "- Arguments are the values that we give to the function when we are calling it (e.g. \"four\", \"two million\")\n",
    "\n",
    "Let's create a function with multiple parameters:"
   ]
  },
  {
   "cell_type": "code",
   "execution_count": 40,
   "id": "9213f786-d594-4266-894d-73f76073017f",
   "metadata": {},
   "outputs": [],
   "source": [
    "def milk_mission(amount, destination):\n",
    "    print('Open the door')\n",
    "    print('Walk to the ' + destination)\n",
    "    print('Buy ' + amount + ' galores of milk')\n",
    "    print('Return with milk galores')"
   ]
  },
  {
   "cell_type": "code",
   "execution_count": 41,
   "id": "987b847a-c1b0-49c8-adca-a03f199f3bf8",
   "metadata": {},
   "outputs": [
    {
     "name": "stdout",
     "output_type": "stream",
     "text": [
      "Open the door\n",
      "Walk to the galaxy\n",
      "Buy seventeen galores of milk\n",
      "Return with milk galores\n"
     ]
    }
   ],
   "source": [
    "milk_mission('seventeen', 'galaxy')"
   ]
  },
  {
   "cell_type": "markdown",
   "id": "60368247-736e-454e-a767-89318410aebc",
   "metadata": {},
   "source": [
    "The order in which we give the arguments to our function matters! Look at this:"
   ]
  },
  {
   "cell_type": "code",
   "execution_count": 42,
   "id": "09a959ba-2c12-486a-aa5c-63d0ec4b625a",
   "metadata": {},
   "outputs": [
    {
     "name": "stdout",
     "output_type": "stream",
     "text": [
      "Open the door\n",
      "Walk to the seventeen\n",
      "Buy galaxy galores of milk\n",
      "Return with milk galores\n"
     ]
    }
   ],
   "source": [
    "milk_mission('galaxy', 'seventeen') "
   ]
  },
  {
   "cell_type": "markdown",
   "id": "f97db4d3-b22f-409a-bf81-41c65b20ccb3",
   "metadata": {},
   "source": [
    "**Trick:** In order to avoid confusion with misordered arguments, we can use the parameter name inside the function calling. This way, the order won't matter:"
   ]
  },
  {
   "cell_type": "code",
   "execution_count": 43,
   "id": "abea2a89-882f-4bf1-bfec-719c9d4cf4ac",
   "metadata": {},
   "outputs": [
    {
     "name": "stdout",
     "output_type": "stream",
     "text": [
      "Open the door\n",
      "Walk to the galaxy\n",
      "Buy seventeen galores of milk\n",
      "Return with milk galores\n"
     ]
    }
   ],
   "source": [
    "milk_mission(destination='galaxy', amount='seventeen')"
   ]
  },
  {
   "cell_type": "markdown",
   "id": "c70704ac-eeb7-4a03-ac36-bc296e98010a",
   "metadata": {},
   "source": [
    "Besides, naming the arguments with the parameter name makes the code more readable."
   ]
  },
  {
   "cell_type": "markdown",
   "id": "ccd8e967-1405-4783-9ab1-9674cd0bb8a1",
   "metadata": {},
   "source": [
    "## Coding Exercise 4 - Python Functions - Part 2\n",
    "Imagine you've measured out your home in square feet and want to list it on a property website. They want to know the area in square meters. Write a quick python function that takes two inputs in feet: a length and a width. The function should then calculate the area in square meters.\n",
    "\n",
    "\n",
    "\n",
    "Hint: 1 foot is 0.3048 meters."
   ]
  },
  {
   "cell_type": "code",
   "execution_count": 44,
   "id": "a44c6e0d-8cce-4b7e-a51a-2ccc7571af51",
   "metadata": {},
   "outputs": [],
   "source": [
    "def calc_square_meters_from_feet(length_ft, width_ft):\n",
    "    metric_area = 0\n",
    "    \n",
    "    metric_area = 0.3048**2 * length_ft * width_ft\n",
    "    return metric_area"
   ]
  },
  {
   "cell_type": "code",
   "execution_count": 45,
   "id": "37744a50-775f-43ea-8940-7bfbc42cefc4",
   "metadata": {},
   "outputs": [
    {
     "data": {
      "text/plain": [
       "4563657442.163636"
      ]
     },
     "execution_count": 45,
     "metadata": {},
     "output_type": "execute_result"
    }
   ],
   "source": [
    "calc_square_meters_from_feet(239834,204820)"
   ]
  },
  {
   "cell_type": "markdown",
   "id": "6dd674b8-a6a4-4343-a8a6-fe4b85ed10c9",
   "metadata": {},
   "source": [
    "## Functions - Results & Return values\n",
    "\n",
    "We use the Python keyword \"return\" followed by the result we want to return. We usually store this result inside a variable, so that it doesn't get lost.\n",
    "\n",
    "**Example exercise:**\n",
    "- Create a function \"times(...)\"\n",
    "- The function gets two inputs that need to be multiplied with each other\n",
    "- Output is the result of the multiplication\n",
    "- Test your function. Create a variable called \"test\" and set it equal to output of the function for inputs 3.14 and 5.09"
   ]
  },
  {
   "cell_type": "code",
   "execution_count": 46,
   "id": "3ae547d3-1989-4611-b6e4-d12dc3a69ebf",
   "metadata": {},
   "outputs": [],
   "source": [
    "def times(mult1, mult2):\n",
    "    result = mult1 * mult2\n",
    "    return result"
   ]
  },
  {
   "cell_type": "markdown",
   "id": "a0e6ae4a-4ad2-42cc-a7ba-be921713a788",
   "metadata": {},
   "source": [
    "Now store the resulting value for our desired arguments in a variable:"
   ]
  },
  {
   "cell_type": "code",
   "execution_count": 47,
   "id": "c54dd764-0fbf-4380-874d-950dc77dacc4",
   "metadata": {},
   "outputs": [
    {
     "name": "stdout",
     "output_type": "stream",
     "text": [
      "15.9826\n"
     ]
    }
   ],
   "source": [
    "test = times(3.14, 5.09)\n",
    "print(test)"
   ]
  },
  {
   "cell_type": "markdown",
   "id": "17cccc1f-d53a-4f11-a456-d9df9ccdc560",
   "metadata": {},
   "source": [
    "**Trick:** What would happen if we put a string as an argument? Python is quite flexible about what we're setting as input when using the * operator, so we can now do a totally different thing: repeating a string as many times as the other parameter states:"
   ]
  },
  {
   "cell_type": "code",
   "execution_count": 48,
   "id": "a3967239-9532-46b8-b54d-0530ee3f3d40",
   "metadata": {},
   "outputs": [
    {
     "name": "stdout",
     "output_type": "stream",
     "text": [
      "mimimimimimimi\n"
     ]
    }
   ],
   "source": [
    "test = times('mi',7)\n",
    "print(test)"
   ]
  },
  {
   "cell_type": "markdown",
   "id": "9ed0e88e-a5c4-4a6a-b512-a338ad6dcfb9",
   "metadata": {},
   "source": [
    "**Note:** As Python programmers, we need to realise about the **flexibility** it has with data types (as opposed to other languages like C++ or Java). This is great for some things, but it can also lead to potential errors, so we need to have it in mind."
   ]
  },
  {
   "cell_type": "markdown",
   "id": "099226a4-0610-46df-9821-31e3608a0e91",
   "metadata": {
    "jp-MarkdownHeadingCollapsed": true,
    "tags": []
   },
   "source": [
    "## Coding Exercise 5 - Python Functions - Part 3\n",
    "Write a function that concatenates two lists. For example if the first list is `['a','b','c']` and the second list is `[1,2,3]` then the result should be `['a','b','c',1,2,3]`. The function could have the name `concatenate_lists` and two parameters. Can you write the entire function from scratch?\n",
    "\n",
    "**Hint:** Make sure that the function name matches exactly or the tests won't work.\n",
    "\n"
   ]
  },
  {
   "cell_type": "code",
   "execution_count": 49,
   "id": "07599bcb-1941-4c48-8046-b469cd33850b",
   "metadata": {},
   "outputs": [
    {
     "data": {
      "text/plain": [
       "['a', 'b', 'c', 1, 2, 3]"
      ]
     },
     "execution_count": 49,
     "metadata": {},
     "output_type": "execute_result"
    }
   ],
   "source": [
    "def concatenate_lists (string1, string2):\n",
    "    concatenated = string1 + string2\n",
    "    return concatenated\n",
    "    \n",
    "concatenate_lists(['a','b','c'],[1,2,3])"
   ]
  },
  {
   "cell_type": "markdown",
   "id": "8f83ea17-a6dc-4d62-bd08-10b48997c7a3",
   "metadata": {},
   "source": [
    "## Objects - Attributes and Methods\n",
    "\n",
    "Accessing attributes in objects is done through the dot notation: `object.attribute`, a.g. regr.coefficient_\n",
    "\n",
    "Methods are functions that belong to an object, and we need to use it as object.method() or module.method()\n",
    "\n",
    "E.g. let's create a function inside out life.py module (called \"quote_marvin\"). Then let's call it here."
   ]
  },
  {
   "cell_type": "code",
   "execution_count": 50,
   "id": "d3bfd4b8-a4d2-405a-880e-597698af0d87",
   "metadata": {},
   "outputs": [
    {
     "name": "stdout",
     "output_type": "stream",
     "text": [
      "I've calculated your chance of survival, but I don't think you'll like it.\n"
     ]
    }
   ],
   "source": [
    "life.quote_marvin()  # As this is a method, we can't just do quote_marvin() like we do with print() or other functions. We need to call the module.method()"
   ]
  },
  {
   "cell_type": "markdown",
   "id": "cb9a5ab4-a258-4591-8082-9b93310dbd31",
   "metadata": {},
   "source": [
    "Objects are what live inside variables. In Python, the data lives with the object inside the variable, is not the type of the variable itself. This is called \"dynamic type system\" E.g.:"
   ]
  },
  {
   "cell_type": "code",
   "execution_count": 51,
   "id": "7d246314-d8be-4d36-a434-88fae8eeb594",
   "metadata": {},
   "outputs": [
    {
     "data": {
      "text/plain": [
       "str"
      ]
     },
     "execution_count": 51,
     "metadata": {},
     "output_type": "execute_result"
    }
   ],
   "source": [
    "myAge = 'Two Hundred'\n",
    "type(myAge)"
   ]
  },
  {
   "cell_type": "code",
   "execution_count": 52,
   "id": "43ae7991-2555-43f4-bfaf-9db5d627dc67",
   "metadata": {},
   "outputs": [
    {
     "data": {
      "text/plain": [
       "int"
      ]
     },
     "execution_count": 52,
     "metadata": {},
     "output_type": "execute_result"
    }
   ],
   "source": [
    "myAge = 2000\n",
    "type(myAge)"
   ]
  },
  {
   "cell_type": "markdown",
   "id": "219829d3-b69b-4ff2-903f-39fca1d7ba6a",
   "metadata": {},
   "source": [
    "Challenge: Create a square root method in the life.py module (using the math module), then call it here to calculate the root of 63.14"
   ]
  },
  {
   "cell_type": "code",
   "execution_count": 53,
   "id": "c269fc13-98cc-46f6-87cb-bea2baff7931",
   "metadata": {},
   "outputs": [
    {
     "name": "stdout",
     "output_type": "stream",
     "text": [
      "7.946068210127573\n"
     ]
    }
   ],
   "source": [
    "result = life.square_root(63.14)\n",
    "print(result)"
   ]
  },
  {
   "cell_type": "markdown",
   "id": "ac3d98c1-5e31-40e7-8c8c-4bfb1dd9b33c",
   "metadata": {},
   "source": [
    "## Make Sense of Python Documentation for Data Visualisation\n",
    "\n",
    "Let's make visualisations for reproducing an experiment about how LSD can affect humans maths calculations.About the experiment:\n",
    "- 5 volunteers being injected LSD 25\n",
    "- 7 blood samples each (with a time delay in mins)\n",
    "- LSD_ppm = tissue concentration of LSD in parts per million\n",
    "- After each blood sample was taken, the volunteers sat down for 3mins to solve as many arithmetic maths problems as possible, and got a result.\n",
    "- Results we have (LSD_ppm, Avg_Math_Test_Score) are the average of the 5 volunteers.\n",
    "- Results were calculated against a control group (non LSD-affected people)\n"
   ]
  },
  {
   "cell_type": "code",
   "execution_count": 54,
   "id": "16ef8c52-2886-4dbd-b462-09b3dfd8d838",
   "metadata": {},
   "outputs": [
    {
     "data": {
      "text/html": [
       "<div>\n",
       "<style scoped>\n",
       "    .dataframe tbody tr th:only-of-type {\n",
       "        vertical-align: middle;\n",
       "    }\n",
       "\n",
       "    .dataframe tbody tr th {\n",
       "        vertical-align: top;\n",
       "    }\n",
       "\n",
       "    .dataframe thead th {\n",
       "        text-align: right;\n",
       "    }\n",
       "</style>\n",
       "<table border=\"1\" class=\"dataframe\">\n",
       "  <thead>\n",
       "    <tr style=\"text-align: right;\">\n",
       "      <th></th>\n",
       "      <th>Time_Delay_in_Minutes</th>\n",
       "      <th>LSD_ppm</th>\n",
       "      <th>Avg_Math_Test_Score</th>\n",
       "      <th>High_Score</th>\n",
       "    </tr>\n",
       "  </thead>\n",
       "  <tbody>\n",
       "    <tr>\n",
       "      <th>0</th>\n",
       "      <td>5</td>\n",
       "      <td>1.17</td>\n",
       "      <td>78.93</td>\n",
       "      <td>6229.9449</td>\n",
       "    </tr>\n",
       "    <tr>\n",
       "      <th>1</th>\n",
       "      <td>15</td>\n",
       "      <td>2.97</td>\n",
       "      <td>58.20</td>\n",
       "      <td>3387.2400</td>\n",
       "    </tr>\n",
       "    <tr>\n",
       "      <th>2</th>\n",
       "      <td>30</td>\n",
       "      <td>3.26</td>\n",
       "      <td>67.47</td>\n",
       "      <td>4552.2009</td>\n",
       "    </tr>\n",
       "    <tr>\n",
       "      <th>3</th>\n",
       "      <td>60</td>\n",
       "      <td>4.69</td>\n",
       "      <td>37.47</td>\n",
       "      <td>1404.0009</td>\n",
       "    </tr>\n",
       "    <tr>\n",
       "      <th>4</th>\n",
       "      <td>120</td>\n",
       "      <td>5.83</td>\n",
       "      <td>45.65</td>\n",
       "      <td>2083.9225</td>\n",
       "    </tr>\n",
       "    <tr>\n",
       "      <th>5</th>\n",
       "      <td>240</td>\n",
       "      <td>6.00</td>\n",
       "      <td>32.92</td>\n",
       "      <td>1083.7264</td>\n",
       "    </tr>\n",
       "    <tr>\n",
       "      <th>6</th>\n",
       "      <td>480</td>\n",
       "      <td>6.41</td>\n",
       "      <td>29.97</td>\n",
       "      <td>898.2009</td>\n",
       "    </tr>\n",
       "  </tbody>\n",
       "</table>\n",
       "</div>"
      ],
      "text/plain": [
       "   Time_Delay_in_Minutes  LSD_ppm  Avg_Math_Test_Score  High_Score\n",
       "0                      5     1.17                78.93   6229.9449\n",
       "1                     15     2.97                58.20   3387.2400\n",
       "2                     30     3.26                67.47   4552.2009\n",
       "3                     60     4.69                37.47   1404.0009\n",
       "4                    120     5.83                45.65   2083.9225\n",
       "5                    240     6.00                32.92   1083.7264\n",
       "6                    480     6.41                29.97    898.2009"
      ]
     },
     "execution_count": 54,
     "metadata": {},
     "output_type": "execute_result"
    }
   ],
   "source": [
    "data"
   ]
  },
  {
   "cell_type": "markdown",
   "id": "1b21abc7-8b06-42f9-a852-d5f1f1cc3935",
   "metadata": {},
   "source": [
    "Now, let’s split our columns in separate objects:"
   ]
  },
  {
   "cell_type": "code",
   "execution_count": 55,
   "id": "1dcd2d25-6df4-430c-95a6-5ea3a9f5b4d3",
   "metadata": {},
   "outputs": [],
   "source": [
    "time = data[['Time_Delay_in_Minutes']] # We're putting[[...]] to create dataframe objects instead of series \n",
    "LSD = data[['LSD_ppm']]\n",
    "score = data[['Avg_Math_Test_Score']]"
   ]
  },
  {
   "cell_type": "markdown",
   "id": "cb6a52d7-5594-466e-8938-64b07eeecc59",
   "metadata": {},
   "source": [
    "Let's plot these results. We imported the matplotlib.pyplot module with the plt alias. Let’s see the relation between the time and the LSD concentration in blood (with some extra cool styling that we can find at the [plt.plot documentation](https://matplotlib.org/2.1.1/api/_as_gen/matplotlib.pyplot.plot.html), see “**kwargs”**, see [documentation for free text](https://matplotlib.org/stable/api/_as_gen/matplotlib.pyplot.text.html):"
   ]
  },
  {
   "cell_type": "code",
   "execution_count": 56,
   "id": "8594dcbe-7a92-4fbf-b976-0263e88450b6",
   "metadata": {},
   "outputs": [
    {
     "data": {
      "image/png": "[encoded data removed]",
      "text/plain": [
       "<Figure size 640x480 with 1 Axes>"
      ]
     },
     "metadata": {},
     "output_type": "display_data"
    }
   ],
   "source": [
    "plt.title('Tissue concentration of LSD over time', fontsize = 17)\n",
    "plt.xlabel('Time in Minutes', fontsize=14)\n",
    "plt.ylabel('Tissue LSD ppm', fontsize=14)\n",
    "plt.text(x=17, y=1.5, s='Random free text', fontsize=12) # Add some extra free text\n",
    "plt.xticks(fontsize=14) # If we want the axis numbers to be the same size of their labels text\n",
    "plt.yticks(fontsize=14)\n",
    "plt.ylim(1,7) # to set hard limits on the axis’ ranges\n",
    "\n",
    "plt.plot(time, LSD, c='#e74c3c', lw=3) # time in the X axis, LSD ppm in the Y axis, hexadecimal custom colour (fancy palettes at materialpalette.com) and bigger line width\n",
    "plt.show() # we always need to tell plt to show us the results"
   ]
  },
  {
   "cell_type": "markdown",
   "id": "f962e1bf-f148-4aa9-9a37-20b312db2c72",
   "metadata": {},
   "source": [
    "We see our styling section can get very long. This is why matplotlib comes with [built-in styles](https://matplotlib.org/stable/gallery/style_sheets/style_sheets_reference.html), for using their templates to do our work. To use them, we just need to add `plt.style.use('chosenStyleName')`. Let's try it (we'd probably need to run the cell twice to see our style applied"
   ]
  },
  {
   "cell_type": "code",
   "execution_count": 57,
   "id": "c323c3d1-3253-4524-a6d8-e0fb7f6457f2",
   "metadata": {},
   "outputs": [
    {
     "data": {
      "image/png": "[encoded data removed]",
      "text/plain": [
       "<Figure size 640x480 with 1 Axes>"
      ]
     },
     "metadata": {},
     "output_type": "display_data"
    }
   ],
   "source": [
    "%matplotlib inline \n",
    "# The above line tells Jupyter Notebooks to export this chart along with the notebook when clicking “File > Download as > Notebook”\n",
    "plt.style.use('dark_background')\n",
    "plt.plot(time, LSD)\n",
    "plt.show()"
   ]
  },
  {
   "cell_type": "markdown",
   "id": "27778556-fe53-4f54-b264-9252c5590dc3",
   "metadata": {},
   "source": [
    "Let's now create our Linear Regression model:"
   ]
  },
  {
   "cell_type": "code",
   "execution_count": 58,
   "id": "9a112001-f59c-41de-947d-a913d0beafa0",
   "metadata": {},
   "outputs": [
    {
     "name": "stdout",
     "output_type": "stream",
     "text": [
      "[[-9.00946642]]\n",
      "[89.12387377]\n"
     ]
    }
   ],
   "source": [
    "reg = LinearRegression()\n",
    "reg.fit(LSD, score) # We need to make sure that we're passing dataframes arguments, and not series, to our linear regression. Otherwise, we'll receive an error\n",
    "\n",
    "# Now we've fitted our linear regression, let's check out theta0 and theta1 values\n",
    "print(reg.coef_) # we'll see this object is stored in a multi-level array\n",
    "print(reg.intercept_) # we'll see this object is stored in an array"
   ]
  },
  {
   "cell_type": "code",
   "execution_count": 59,
   "id": "1fafca05-fb15-464b-849c-df7628fd5334",
   "metadata": {},
   "outputs": [
    {
     "name": "stdout",
     "output_type": "stream",
     "text": [
      "Theta1 =  -9.009466415296782\n",
      "Theta0 =  89.12387376799305\n",
      "R-squared =  0.8778349707775888\n"
     ]
    }
   ],
   "source": [
    "# To access the coefficient itself (slope) and store it in a variable, we'll access the array:\n",
    "theta1 = reg.coef_[0][0]\n",
    "print('Theta1 = ', theta1)\n",
    "\n",
    "theta0 = reg.intercept_[0]\n",
    "print('Theta0 = ', theta0)\n",
    "\n",
    "RSS = reg.score(LSD, score)\n",
    "print('R-squared = ', RSS)"
   ]
  },
  {
   "cell_type": "markdown",
   "id": "a65791a9-2261-47e3-a0cf-365ed985a21f",
   "metadata": {},
   "source": [
    "Some preliminary conclusions: there seems to be a negative relationship between LSD tissue concentration and maths."
   ]
  },
  {
   "cell_type": "code",
   "execution_count": 81,
   "id": "4f27b7ca-7ed3-465f-bd46-7e58417ca8f0",
   "metadata": {},
   "outputs": [
    {
     "data": {
      "image/png": "[encoded data removed]",
      "text/plain": [
       "<Figure size 640x480 with 1 Axes>"
      ]
     },
     "metadata": {},
     "output_type": "display_data"
    }
   ],
   "source": [
    "# First, make sure our chart will be downloaded when downloading the notebook:\n",
    "%matplotlib inline \n",
    "\n",
    "# Styling:\n",
    "plt.title('Arithmetic vs LSD-25', fontsize = 17)\n",
    "plt.xlabel('Tissue LSD ppm', fontsize = 14)\n",
    "plt.ylabel('Performance score', fontsize = 14)\n",
    "plt.xlim(1,6.5)\n",
    "plt.ylim(25,80)\n",
    "plt.style.use('fivethirtyeight')\n",
    "\n",
    "# Data points:\n",
    "plt.scatter(LSD, score, c='b', s=100, alpha=0.5) # added blue colour, bigger dots size, some transparency to the dots\n",
    "\n",
    "# Predictions:\n",
    "plt.plot(LSD, reg.predict(LSD),c='#e6b400',lw=3)\n",
    "\n",
    "# Show me the magic!\n",
    "plt.show()"
   ]
  },
  {
   "cell_type": "code",
   "execution_count": null,
   "id": "d6bc4eef-704f-4310-bfae-689dccc6a11f",
   "metadata": {},
   "outputs": [],
   "source": []
  }
 ],
 "metadata": {
  "kernelspec": {
   "display_name": "PySpark (Local)",
   "language": "python",
   "name": "local-pyspark"
  },
  "language_info": {
   "codemirror_mode": {
    "name": "ipython",
    "version": 3
   },
   "file_extension": ".py",
   "mimetype": "text/x-python",
   "name": "python",
   "nbconvert_exporter": "python",
   "pygments_lexer": "ipython3",
   "version": "3.7.12"
  }
 },
 "nbformat": 4,
 "nbformat_minor": 5
}
